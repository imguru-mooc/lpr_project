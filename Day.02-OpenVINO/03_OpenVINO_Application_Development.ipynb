{
 "cells": [
  {
   "cell_type": "markdown",
   "metadata": {},
   "source": [
    "![Intel Logo](images/logo.png)\n",
    "\n",
    "# MNIST Classification using OpenVINO \n",
    "\n",
    "### Contents :\n",
    "\n",
    "   1. Preparing the MNIST Dataset\n",
    "   \n",
    "   2. Creating an OpenVINO application using the Inference Engine\n",
    "   \n",
    "   3. Visualize the results after inferring with actual data\n",
    "   "
   ]
  },
  {
   "cell_type": "markdown",
   "metadata": {},
   "source": [
    "## Preparing the MNIST Dataset\n",
    "- Preparing and checking the MNIST Dataset\n",
    "\n",
    "![Result](RES/L02/03.app_label.png)"
   ]
  },
  {
   "cell_type": "code",
   "execution_count": null,
   "metadata": {},
   "outputs": [],
   "source": [
    "import os\n",
    "USER = os.environ[\"USER\"]\n",
    "OVTRAINING = \"/home/{}/openvino_training\".format(USER)\n"
   ]
  },
  {
   "cell_type": "code",
   "execution_count": null,
   "metadata": {},
   "outputs": [],
   "source": [
    "#Show the testset\n",
    "import cv2\n",
    "import numpy as np\n",
    "import matplotlib.pyplot as plt\n",
    "import tensorflow as tf\n",
    "\n",
    "mnist = tf.keras.datasets.mnist\n",
    "\n",
    "(image_train, label_train), (image_test, label_test) = mnist.load_data()\n",
    "image_train, image_test = image_train / 255.0, image_test / 255.0\n",
    "\n",
    "#show the 10 samples\n",
    "plt.figure(figsize = (20,20))\n",
    "\n",
    "for id in range(10):\n",
    "    sp = plt.subplot(5,5,id+1)\n",
    "    plt.imshow(image_test[id])\n",
    "    plt.title(f'Id{[id]}, Label: {label_test[id]}')\n",
    "    plt.axis('off')\n",
    "\n"
   ]
  },
  {
   "cell_type": "markdown",
   "metadata": {},
   "source": [
    "## Refer to the figure and finish the code\n",
    "\n",
    "- Refer to the following figure and fill in the blanks to produce a similar result\n",
    "\n",
    "![Result](RES/L02/03.app_result.png)\n"
   ]
  },
  {
   "cell_type": "code",
   "execution_count": null,
   "metadata": {},
   "outputs": [],
   "source": [
    "# import inferencce engine\n",
    "???\n",
    "\n",
    "# Ths network is trained with 96*96*3\n",
    "\n",
    "#change (28,28,1) to (96*96*3)\n",
    "def resize(img):\n",
    "    ???\n",
    "    return ???\n",
    "\n",
    "# change 3D to 4D (including batch) and change order from NHWC to NCHW\n",
    "def nchw(img):\n",
    "    ???\n",
    "    return ???\n",
    "\n",
    "\n",
    "# prepare image from MNIST  and pre-process it\n",
    "???\n",
    "# resize image\n",
    "???\n",
    "# modify to imput image\n",
    "???\n",
    "\n",
    "# initialize Inference Engine (IE)\n",
    "???\n",
    "\n",
    "# read model and prepare network\n",
    "???\n",
    "\n",
    "# create executable network(Inference)\n",
    "???\n",
    "\n",
    "# What is the predicted value? (argmax)\n",
    "print(output???)\n",
    "print(???)\n"
   ]
  },
  {
   "cell_type": "markdown",
   "metadata": {},
   "source": [
    "# Instructor reference "
   ]
  },
  {
   "cell_type": "code",
   "execution_count": null,
   "metadata": {
    "scrolled": true
   },
   "outputs": [],
   "source": [
    "# Do Not Share\n",
    "import os\n",
    "from openvino.inference_engine import IECore\n",
    "\n",
    "USER = os.environ[\"USER\"]\n",
    "input_size = 96\n",
    "\n",
    "#change (28,28,1) to (96*96*3)\n",
    "def resize(img):\n",
    "    # resize the image first\n",
    "    img = cv2.resize(img, (input_size, input_size))\n",
    "    # expand 1-channel input image to 3-channels for input shape of MobileNetV2\n",
    "    img = np.stack((img, )*3, axis=-1)\n",
    "    # Make sure it is a float32\n",
    "    return img\n",
    "#    return img.astype(np.float32\n",
    "\n",
    "# change 3D to 4D (including batch) and change order from NHWC to NCHW\n",
    "def nchw(img):\n",
    "    # Add Batch size(N) axis\n",
    "    #img = img[np.newaxis, :, :, :]  # HWC to NHWC\n",
    "    img = np.reshape(img, (1,96,96,3))\n",
    "    #print(img.shape)\n",
    "    reorder_img = img.transpose((0, 3, 1, 2))  # NHWC to NCHW\n",
    "    #print(reorder_img.shape)\n",
    "    return reorder_img\n",
    "\n",
    "# initialize Inference Engine (IE)\n",
    "ie = IECore()\n",
    "\n",
    "# read model and prepare network\n",
    "\n",
    "\n",
    "net = ie.read_network(model=\"/home/{}/openvino_training/mnist_mobilenetv2.xml\".format(USER),\n",
    "                      weights=\"/home/{}/openvino_training/mnist_mobilenetv2.bin\".format(USER))\n",
    "\n",
    "########################################################################\n",
    "# create executable network\n",
    "exec_net = ie.load_network(network=net,\n",
    "                           device_name=\"CPU\")\n",
    "\n",
    "# prepare image from MNIST  and pre-process it\n",
    "index = 7\n",
    "image = nchw(resize(image_test[index]))\n",
    "\n",
    "#print([s for s in dir(net.input_info['x']) if not s.startsWith('__')])\n",
    "#print(type(net.input_info))\n",
    "#print(iter(net.input_info))\n",
    "#print(next(iter(net.input_info)))\n",
    "#print(net.outputs)\n",
    "#print(iter(net.outputs))\n",
    "#print(next(iter(net.outputs)))\n",
    "input_name = next(iter(net.input_info))\n",
    "out_blob = next(iter(net.outputs))\n",
    "\n",
    "plt.imshow(image_test[7])\n",
    "infer_result = exec_net.infer({input_name: image})\n",
    "#print(\" * infer raw:\",(infer_result))\n",
    "#print(\" * infer outpt\",(infer_result[out_blob]))\n",
    "#print label value\n",
    "print(\" * Label: \",label_test[index])\n",
    "#print output\n",
    "print(\" * Result:\", np.argmax(infer_result[out_blob]))\n"
   ]
  },
  {
   "cell_type": "code",
   "execution_count": null,
   "metadata": {},
   "outputs": [],
   "source": []
  }
 ],
 "metadata": {
  "kernelspec": {
   "display_name": "Python 3",
   "language": "python",
   "name": "python3"
  },
  "language_info": {
   "codemirror_mode": {
    "name": "ipython",
    "version": 3
   },
   "file_extension": ".py",
   "mimetype": "text/x-python",
   "name": "python",
   "nbconvert_exporter": "python",
   "pygments_lexer": "ipython3",
   "version": "3.7.3"
  }
 },
 "nbformat": 4,
 "nbformat_minor": 4
}
