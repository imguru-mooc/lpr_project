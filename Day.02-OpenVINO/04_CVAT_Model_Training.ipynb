{
 "cells": [
  {
   "cell_type": "markdown",
   "metadata": {},
   "source": [
    "\n",
    "![Intel Logo](images/logo.png)\n",
    "\n",
    "# Exploring OpenVINO CVAT\n",
    "   \n",
    "   1. Running CVAT\n",
    "   2. Creating a task\n",
    "   3. Annotation\n",
    "   4. Checking the dataset\n"
   ]
  },
  {
   "cell_type": "markdown",
   "metadata": {},
   "source": [
    "## 0. OpenVINO CVAT"
   ]
  },
  {
   "cell_type": "markdown",
   "metadata": {},
   "source": [
    "![OpenVINO CVAT](RES/L02/04.cvat.jpg)\n",
    "\n",
    "-In Deeplearning, it is an important task to create a meaningful dataset from raw data.\n",
    "-It is cumbersome to make it suitable for each use case, but CVAT eases the process.\n",
    "\n",
    "Reference: <a href=\"https://github.com/openvinotoolkit/cvat\">click</a>"
   ]
  },
  {
   "cell_type": "markdown",
   "metadata": {},
   "source": [
    "# 1. Running CVAT"
   ]
  },
  {
   "cell_type": "code",
   "execution_count": 1,
   "metadata": {},
   "outputs": [
    {
     "name": "stdout",
     "output_type": "stream",
     "text": [
      "/bin/bash: line 0: cd: /home/jihwankim/cvat: No such file or directory\r\n"
     ]
    }
   ],
   "source": [
    "# Run the CVAT tool\n",
    "!cd ~/cvat && docker-compose up -d"
   ]
  },
  {
   "cell_type": "markdown",
   "metadata": {},
   "source": [
    "Access the CVAT Tool\n",
    "Open CVAT: <a href=\"http://localhost:8080\">click</a>\n",
    "\n",
    "Login information :\n",
    "- ID: intel\n",
    "- PW: intel123<p>\n",
    "<img src=\"RES/L02/04.new_task.png\" alt=\"drawing\" width=\"600\"/>"
   ]
  },
  {
   "cell_type": "markdown",
   "metadata": {},
   "source": [
    "# 2. Creating a Task\n",
    "\n",
    "1. Enter the project name\n",
    "2. Add Label\n",
    "    e.g) Click the \"Add Label\" button, add \"Dog\" and then click the \"Done\" button.\n",
    "3. Select data from \"Click or drag files to this area\" in the Select files item.\n",
    "4. Submit with the \"Submit\" button\n",
    "\n",
    "Resulting page\n",
    "\n",
    "<img src=\"RES/L02/04_done.png\" alt=\"drawing\" width=\"600\"/>"
   ]
  },
  {
   "cell_type": "markdown",
   "metadata": {},
   "source": [
    "# 3. Annotation \n",
    "\n",
    "1. Select \"Draw new rectangle\" to set the area\n",
    "2. Choose from \"Cat\" or \"Dog\"\n",
    "3. Move to the next data with'F' button or move to the previous image by pressing'D'\n",
    "4. After completion, save as'Export as a dataset' of'Menu'.\n",
    "5. Choose the right dataset\n",
    "\n",
    "<img src=\"RES/L02/04.annotation.png\" alt=\"drawing\" width=\"600\"/>"
   ]
  },
  {
   "cell_type": "markdown",
   "metadata": {},
   "source": [
    "# 4. Checking the dataset\n",
    "\n",
    "1. A zip file named task* is created in the ~/Downloads/ folder.\n",
    "2. It is saved according to the dataset format.\n"
   ]
  },
  {
   "cell_type": "code",
   "execution_count": 2,
   "metadata": {},
   "outputs": [
    {
     "name": "stdout",
     "output_type": "stream",
     "text": [
      "ls: cannot access '/home/jihwankim/Downloads/task*': No such file or directory\r\n"
     ]
    }
   ],
   "source": [
    "!ls ~/Downloads/task*"
   ]
  },
  {
   "cell_type": "code",
   "execution_count": null,
   "metadata": {},
   "outputs": [],
   "source": []
  }
 ],
 "metadata": {
  "kernelspec": {
   "display_name": "Python 3",
   "language": "python",
   "name": "python3"
  },
  "language_info": {
   "codemirror_mode": {
    "name": "ipython",
    "version": 3
   },
   "file_extension": ".py",
   "mimetype": "text/x-python",
   "name": "python",
   "nbconvert_exporter": "python",
   "pygments_lexer": "ipython3",
   "version": "3.7.3"
  },
  "toc": {
   "base_numbering": 1,
   "nav_menu": {},
   "number_sections": false,
   "sideBar": true,
   "skip_h1_title": false,
   "title_cell": "Table of Contents",
   "title_sidebar": "Contents",
   "toc_cell": false,
   "toc_position": {},
   "toc_section_display": true,
   "toc_window_display": true
  }
 },
 "nbformat": 4,
 "nbformat_minor": 4
}
