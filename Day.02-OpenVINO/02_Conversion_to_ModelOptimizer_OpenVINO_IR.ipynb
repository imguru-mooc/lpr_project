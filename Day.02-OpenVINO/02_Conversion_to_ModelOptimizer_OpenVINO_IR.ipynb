{
 "cells": [
  {
   "cell_type": "markdown",
   "metadata": {},
   "source": [
    "![Intel Logo](images/logo.png)\n",
    "\n",
    "# Conversion to Model Optimizer\n",
    "\n",
    "### Contents\n",
    "    1. Model freezing\n",
    "    2. Conversion to OpenVINO IR file\n",
    "    \n",
    "![Model Optimizr](RES/L02/02.mo.png)"
   ]
  },
  {
   "cell_type": "markdown",
   "metadata": {},
   "source": [
    "\n"
   ]
  },
  {
   "cell_type": "markdown",
   "metadata": {},
   "source": [
    "# 0. Prerequisite"
   ]
  },
  {
   "cell_type": "code",
   "execution_count": null,
   "metadata": {},
   "outputs": [],
   "source": [
    "import os\n",
    "USER = os.environ[\"USER\"]\n",
    "OVTRANINIG = \"/home/{}/openvino_training\".format(USER)\n",
    "\n",
    "!cp RES/L02/mnist_mobilenetv2.h5 $OVTRANINIG/"
   ]
  },
  {
   "cell_type": "markdown",
   "metadata": {},
   "source": [
    "# 1. Tensorflow Model Freeze"
   ]
  },
  {
   "cell_type": "code",
   "execution_count": null,
   "metadata": {},
   "outputs": [],
   "source": [
    "import tensorflow as tf\n",
    "from tensorflow.python.framework.convert_to_constants import convert_variables_to_constants_v2\n",
    "\n",
    "\n",
    "model = tf.keras.models.load_model('{}/{}'.format(OVTRANINIG,'mnist_mobilenetv2.h5'))\n",
    "\n",
    "# Convert Keras model to ConcreteFunction\n",
    "_model = tf.function(lambda x: model(x)).get_concrete_function(\n",
    "    tf.TensorSpec(model.inputs[0].shape, model.inputs[0].dtype))\n",
    "\n",
    "# Get frozen ConcreteFunction\n",
    "frozen_func = convert_variables_to_constants_v2(_model)\n",
    "frozen_func.graph.as_graph_def()\n",
    "\n",
    "# Save frozen graph to disk\n",
    "saved_file = tf.io.write_graph(graph_or_graph_def=frozen_func.graph,\n",
    "                  logdir='',\n",
    "                  name='{}/{}'.format(OVTRANINIG,'mnist_mobilenetv2.pb'),\n",
    "                  as_text=False)"
   ]
  },
  {
   "cell_type": "markdown",
   "metadata": {},
   "source": [
    "# 2. Converting and checking the model"
   ]
  },
  {
   "cell_type": "code",
   "execution_count": null,
   "metadata": {},
   "outputs": [],
   "source": [
    "!pip3 install test-generator==0.1.1"
   ]
  },
  {
   "cell_type": "code",
   "execution_count": null,
   "metadata": {},
   "outputs": [],
   "source": [
    "# Set input shape and run Mo\n",
    "# Tensorflow -> mo_tf.py\n",
    "# input_model -> frozen file\n",
    "# input_shape \n",
    "\n",
    "#!source /opt/intel/openvino_2021/bin/setupvars.sh\n",
    "!/opt/intel/openvino_2021/deployment_tools/model_optimizer/mo_tf.py \\\n",
    "    --input_model=$OVTRANINIG/mnist_mobilenetv2.pb \\\n",
    "    --input_shape [1,96,96,3] \\\n",
    "    --output_dir=$OVTRANINIG/"
   ]
  },
  {
   "cell_type": "code",
   "execution_count": null,
   "metadata": {},
   "outputs": [],
   "source": [
    "!cat $OVTRANINIG/mnist_mobilenetv2.xml"
   ]
  },
  {
   "cell_type": "code",
   "execution_count": null,
   "metadata": {},
   "outputs": [],
   "source": [
    "!snap install netron"
   ]
  },
  {
   "cell_type": "code",
   "execution_count": null,
   "metadata": {},
   "outputs": [],
   "source": [
    "!netron $OVTRANINIG/mnist_mobilenetv2.xml"
   ]
  },
  {
   "cell_type": "markdown",
   "metadata": {},
   "source": [
    "# 3. Converting a different model "
   ]
  }
 ],
 "metadata": {
  "kernelspec": {
   "display_name": "Python 3",
   "language": "python",
   "name": "python3"
  },
  "language_info": {
   "codemirror_mode": {
    "name": "ipython",
    "version": 3
   },
   "file_extension": ".py",
   "mimetype": "text/x-python",
   "name": "python",
   "nbconvert_exporter": "python",
   "pygments_lexer": "ipython3",
   "version": "3.7.3"
  }
 },
 "nbformat": 4,
 "nbformat_minor": 4
}
