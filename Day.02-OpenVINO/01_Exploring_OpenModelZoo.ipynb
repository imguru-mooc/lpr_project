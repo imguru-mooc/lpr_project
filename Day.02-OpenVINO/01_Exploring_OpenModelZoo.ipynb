{
 "cells": [
  {
   "cell_type": "markdown",
   "metadata": {
    "id": "geUWdgwKU4sh"
   },
   "source": [
    "![Intel Logo](./images/logo.png)\n",
    "\n",
    "# Exploring Open Model Zoo\n",
    "\n",
    "### Contents:\n",
    "\n",
    "   1. Verification of Open Model Zoo installation environment\n",
    "   2. Build the Open Model Zoo demo\n",
    "   3. Running the Human Pose Estimation C++ demo\n",
    "   4. Run the Segmentation Python Demo\n",
    "   5. Download and run the demo yourself"
   ]
  },
  {
   "cell_type": "markdown",
   "metadata": {},
   "source": [
    "## 1. Verification of Open Model Zoo installation environment\n",
    "\n",
    "-Script content review and installation environment verification\n",
    "-If the figure below appears, the basic installation is successful <demo_security_barrier_camera.sh result>\n",
    "\n",
    "![Install test](RES/L02/01.omz_veri.png)"
   ]
  },
  {
   "cell_type": "code",
   "execution_count": null,
   "metadata": {},
   "outputs": [],
   "source": [
    "!cat /opt/intel/openvino_2021/deployment_tools/demo/demo_security_barrier_camera.sh"
   ]
  },
  {
   "cell_type": "code",
   "execution_count": null,
   "metadata": {},
   "outputs": [],
   "source": [
    "!cat /opt/intel/openvino_2021/deployment_tools/demo/demo_squeezenet_download_convert_run.sh"
   ]
  },
  {
   "cell_type": "code",
   "execution_count": null,
   "metadata": {},
   "outputs": [],
   "source": [
    "# Download model for the demo\n",
    "!/opt/intel/openvino_2021/deployment_tools/tools/model_downloader/downloader.py \\\n",
    "    --name vehicle-attributes-recognition-barrier-0039 \\\n",
    "    --output_dir $OMZBUILD/models\n",
    "\n",
    "#     vehicle-license-plate-detection-barrier-0106\n",
    "#     license-plate-recognition-barrier-0001\n",
    "#     vehicle-attributes-recognition-barrier-0039"
   ]
  },
  {
   "cell_type": "code",
   "execution_count": null,
   "metadata": {
    "scrolled": true
   },
   "outputs": [],
   "source": [
    "# !source /opt/intel/openvino_2021/bin/setupvars.sh && \\\n",
    "#     /home/$USER/omz_demos_build/intel64/Release/security_barrier_camera_demo \\\n",
    "#     -d GPU -d_va CPU -d_lpr CPU \\\n",
    "#     -i /opt/intel/openvino_2021/deployment_tools/demo/car_1.bmp \\\n",
    "#     -m /home/$USER/openvino_models/ir/intel/vehicle-license-plate-detection-barrier-0106/FP16/vehicle-license-plate-detection-barrier-0106.xml \\\n",
    "#     -m_lpr /home/$USER/openvino_models/ir/intel/license-plate-recognition-barrier-0001/FP16/license-plate-recognition-barrier-0001.xml \\\n",
    "#     -m_va /home/$USER/openvino_models/ir/intel/vehicle-attributes-recognition-barrier-0039/FP16/vehicle-attributes-recognition-barrier-0039.xml\n",
    "\n",
    "!source /opt/intel/openvino_2021/bin/setupvars.sh && \\\n",
    "    /home/$USER/omz_demos_build/intel64/Release/security_barrier_camera_demo \\\n",
    "    -d_va CPU -d_lpr CPU \\\n",
    "    -i /opt/intel/openvino_2021/deployment_tools/demo/car_1.bmp \\\n",
    "    -m /home/$USER/omz_demos_build/models/intel/vehicle-license-plate-detection-barrier-0106/FP16/vehicle-license-plate-detection-barrier-0106.xml \\\n",
    "    -m_lpr /home/$USER/omz_demos_build/models/intel/license-plate-recognition-barrier-0001/FP16/license-plate-recognition-barrier-0001.xml \\\n",
    "    -m_va /home/$USER/omz_demos_build/models/intel/vehicle-attributes-recognition-barrier-0039/FP16/vehicle-attributes-recognition-barrier-0039.xml"
   ]
  },
  {
   "cell_type": "markdown",
   "metadata": {},
   "source": [
    "## 2. Build the Open Model Zoo demo\n",
    "\n",
    "1. Build the Open Model Zoo demo\n",
    "2. Demo selection\n",
    "3. Download the model using the Downloader tool\n",
    "4. (Optional) Convert OpenVINO IR file using Convert tool\n",
    "5. Run Open Model Zoo Demo (C++ demo or Python demo)\n",
    "\n",
    "![OpenModelZoo](RES/L02/01.omz_models.png)"
   ]
  },
  {
   "cell_type": "code",
   "execution_count": null,
   "metadata": {},
   "outputs": [],
   "source": [
    "import os\n",
    "USER = os.environ[\"USER\"]\n",
    "OMZBASE = \"/opt/intel/openvino_2021/deployment_tools/open_model_zoo\"\n",
    "OMZBUILD = \"/home/{}/omz_demos_build\".format(USER)"
   ]
  },
  {
   "cell_type": "code",
   "execution_count": null,
   "metadata": {},
   "outputs": [],
   "source": [
    "# Build open model zoo demos\n",
    "!source /opt/intel/openvino_2021/bin/setupvars.sh && \\\n",
    "    $OMZBASE/demos/build_demos.sh\n",
    "!tree $OMZBUILD/intel64/Release"
   ]
  },
  {
   "cell_type": "code",
   "execution_count": null,
   "metadata": {},
   "outputs": [],
   "source": [
    "# Check out compiled demos\n",
    "!ls -al $OMZBASE/demos #/<demo to run>"
   ]
  },
  {
   "cell_type": "code",
   "execution_count": null,
   "metadata": {},
   "outputs": [],
   "source": [
    "# Create a sample folder\n",
    "!rm -rf $OMZBUILD/sample && mkdir $OMZBUILD/sample\n",
    "!cp RES/L02/sample.mp4 $OMZBUILD/sample/sample.mp4"
   ]
  },
  {
   "cell_type": "markdown",
   "metadata": {},
   "source": [
    "## 3. Running the Human Pose Estimation C++ demo\n",
    "\n",
    "![Human Pose](RES/L02/01_humanpose.png)"
   ]
  },
  {
   "cell_type": "code",
   "execution_count": null,
   "metadata": {
    "scrolled": true
   },
   "outputs": [],
   "source": [
    "# Assume we want Human Pose Estimation and read out basic information\n",
    "!cat $OMZBASE/demos/human_pose_estimation_demo/README.md"
   ]
  },
  {
   "cell_type": "code",
   "execution_count": null,
   "metadata": {},
   "outputs": [],
   "source": [
    "# Read out which model is applicable\n",
    "!ls -al $OMZBASE/demos/human_pose_estimation_demo/\n",
    "!cat $OMZBASE/demos/human_pose_estimation_demo/models.lst"
   ]
  },
  {
   "cell_type": "code",
   "execution_count": null,
   "metadata": {},
   "outputs": [],
   "source": [
    "# Check out all models with Downloader tool\n",
    "!/opt/intel/openvino_2021/deployment_tools/tools/model_downloader/downloader.py --print_all"
   ]
  },
  {
   "cell_type": "code",
   "execution_count": null,
   "metadata": {},
   "outputs": [],
   "source": [
    "# Download model for the demo\n",
    "!/opt/intel/openvino_2021/deployment_tools/tools/model_downloader/downloader.py \\\n",
    "    --name human-pose-estimation-0001 \\\n",
    "    --output_dir $OMZBUILD/models"
   ]
  },
  {
   "cell_type": "code",
   "execution_count": null,
   "metadata": {},
   "outputs": [],
   "source": [
    "# Run Demo\n",
    "!source /opt/intel/openvino_2021/bin/setupvars.sh && \\\n",
    "    $OMZBUILD/intel64/Release/human_pose_estimation_demo \\\n",
    "    -i $OMZBUILD/sample/sample.mp4 \\\n",
    "    -m $OMZBUILD/models/intel/human-pose-estimation-0001/FP32/human-pose-estimation-0001.xml\n",
    "    "
   ]
  },
  {
   "cell_type": "markdown",
   "metadata": {},
   "source": [
    "## 4. Run the Segmentation Python Demo\n",
    "\n",
    "![Segmentation](RES/L02/01_seg.png)"
   ]
  },
  {
   "cell_type": "code",
   "execution_count": null,
   "metadata": {},
   "outputs": [],
   "source": [
    "# Assume we segmentation and read out basic information\n",
    "!cat $OMZBASE/demos/python_demos/instance_segmentation_demo/README.md\n",
    "!cat $OMZBASE/demos/python_demos/instance_segmentation_demo/models.lst"
   ]
  },
  {
   "cell_type": "code",
   "execution_count": null,
   "metadata": {},
   "outputs": [],
   "source": [
    "# Check out all models with Downloader tool\n",
    "!/opt/intel/openvino_2021/deployment_tools/tools/model_downloader/downloader.py --print_all | grep instance-segmentation-security"
   ]
  },
  {
   "cell_type": "code",
   "execution_count": null,
   "metadata": {},
   "outputs": [],
   "source": [
    "# Download model for the demo\n",
    "!/opt/intel/openvino_2021/deployment_tools/tools/model_downloader/downloader.py \\\n",
    "    --name instance-segmentation-security-1025 \\\n",
    "    --output_dir $OMZBUILD/models"
   ]
  },
  {
   "cell_type": "code",
   "execution_count": null,
   "metadata": {
    "scrolled": true
   },
   "outputs": [],
   "source": [
    "# Run Demo\n",
    "!source /opt/intel/openvino_2021/bin/setupvars.sh && \\\n",
    "    python3 $OMZBASE/demos/python_demos/instance_segmentation_demo/instance_segmentation_demo.py \\\n",
    "    -i $OMZBUILD/sample/sample.mp4 \\\n",
    "    -m $OMZBUILD/models/intel/instance-segmentation-security-1025/FP16/instance-segmentation-security-1025.xml \\\n",
    "    --labels $OMZBASE/demos/python_demos/instance_segmentation_demo/coco_labels.txt \\\n",
    "    --delay 1\n"
   ]
  },
  {
   "cell_type": "markdown",
   "metadata": {},
   "source": [
    "## 5. Download and run the demo yourself\n",
    "\n",
    "1. Try the Yolov3 demo\n",
    "2. Utilizing camera input using Web Camera"
   ]
  }
 ],
 "metadata": {
  "colab": {
   "name": "OpenVINO_HandsOn.ipynb",
   "provenance": []
  },
  "kernelspec": {
   "display_name": "Python 3",
   "language": "python",
   "name": "python3"
  },
  "language_info": {
   "codemirror_mode": {
    "name": "ipython",
    "version": 3
   },
   "file_extension": ".py",
   "mimetype": "text/x-python",
   "name": "python",
   "nbconvert_exporter": "python",
   "pygments_lexer": "ipython3",
   "version": "3.7.3"
  }
 },
 "nbformat": 4,
 "nbformat_minor": 1
}
