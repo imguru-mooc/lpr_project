{
 "cells": [
  {
   "cell_type": "markdown",
   "metadata": {
    "slideshow": {
     "slide_type": "-"
    }
   },
   "source": [
    "\n",
    "![Intel Logo](images/iot_edge/logo.png)\n",
    "\n",
    "# IoT Edge - Docker\n",
    "\n",
    "## Overview\n",
    "\n",
    "* Learn Docker commands, and better understand containers using Dockerfiles and Docker-Compose\n",
    "\n",
    "## Contents:\n",
    "\n",
    "   1. Docker Commands\n",
    "   2. Using Docker to containerize Ubuntu 20.04\n",
    "   3. Creating a Dockerfile\n",
    "   4. Creating multiple containers (Nginx, Apache)\n",
    "   5. Using Docker-Compose\n",
    "\n",
    "   ---"
   ]
  },
  {
   "cell_type": "markdown",
   "metadata": {},
   "source": [
    "# Docker Commands"
   ]
  },
  {
   "cell_type": "markdown",
   "metadata": {},
   "source": [
    "## Executing Docker Commands"
   ]
  },
  {
   "cell_type": "code",
   "execution_count": null,
   "metadata": {},
   "outputs": [],
   "source": [
    "!docker"
   ]
  },
  {
   "cell_type": "markdown",
   "metadata": {},
   "source": [
    "### Common Docker Commands\n",
    "\n",
    "* **Creating/Running**\n",
    "  * pull   - Pull an image or a repository from a registry\n",
    "  * build  - Build an image from a Dockerfile\n",
    "  * run    - Run a command in a new container\n",
    "  * exec   - Run a command in a running container\n",
    "\n",
    "* **Status Checking**\n",
    "  * images - List images in local machine\n",
    "  * ps     - List active/deactive containers\n",
    "  * history - Show the history of an image, allows user to see which layers the image consists of\n",
    "\n",
    "* **Deleting**\n",
    "  * rm     - Remove one or more containers\n",
    "  * rmi    - Remove one or more images"
   ]
  },
  {
   "cell_type": "markdown",
   "metadata": {},
   "source": [
    "# Using Docker to containerize Ubuntu 20.04\n",
    "\n",
    "![docker_2](images/iot_edge/docker_2.png)"
   ]
  },
  {
   "cell_type": "markdown",
   "metadata": {},
   "source": [
    "## Setup Variables"
   ]
  },
  {
   "cell_type": "code",
   "execution_count": null,
   "metadata": {},
   "outputs": [],
   "source": [
    "# Docker Container Name\n",
    "DOCKER_NAME=\"ubuntu_20_04\"\n",
    "\n",
    "# Docker Image Name from Dockerhub\n",
    "DOCKER_REPO=\"ubuntu\"\n",
    "\n",
    "# Docker Image Tag\n",
    "DOCKER_TAG=\"20.04\""
   ]
  },
  {
   "cell_type": "markdown",
   "metadata": {},
   "source": [
    "## Download the Docker Image for Ubuntu 20.04\n",
    "\n",
    "![docker_2.2](images/iot_edge/docker_2.2.png)\n",
    "\n",
    "* ***docker pull***\n",
    "\n",
    "```bash\n",
    "Usage: docker pull [OPTIONS] NAME[:TAG|@DIGEST]\n",
    "Pull an image or a repository from a registry\n",
    "```\n",
    "\n",
    "* Ubuntu Image **Dockerhub Link**\n",
    "  * [Dockerhub for Ubuntu](https://hub.docker.com/_/ubuntu)"
   ]
  },
  {
   "cell_type": "code",
   "execution_count": null,
   "metadata": {},
   "outputs": [],
   "source": [
    "!echo \"Download Docker Image $DOCKER_REPO:$DOCKER_TAG\"\n",
    "!docker pull $DOCKER_REPO:$DOCKER_TAG"
   ]
  },
  {
   "cell_type": "markdown",
   "metadata": {},
   "source": [
    "## Check the downloaded Docker Image\n",
    "\n",
    "* ***docker images***\n",
    "\n",
    "```bash\n",
    "Usage: docker images [OPTIONS] [REPOSITORY[:TAG]]\n",
    "List Docker Images\n",
    "```\n",
    "\n",
    "  * Check the Docker Images, and search for the downloaded Image"
   ]
  },
  {
   "cell_type": "code",
   "execution_count": null,
   "metadata": {
    "scrolled": true
   },
   "outputs": [],
   "source": [
    "# Check the all of the docker images\n",
    "!docker images"
   ]
  },
  {
   "cell_type": "markdown",
   "metadata": {},
   "source": [
    "## Run the Docker Image\n",
    "\n",
    "![docker_2.4](images/iot_edge/docker_2.4.png)\n",
    "\n",
    "* ***docker run***\n",
    "\n",
    "```bash\n",
    "Usage: docker run [OPTIONS] IMAGE [COMMAND] [ARG...]\n",
    "Run a command in a new container based on the Docker Image\n",
    "\n",
    "Option:\n",
    "  -i, --interactive  Keep STDIN open even if not attached\n",
    "                     \n",
    "  -t, --tty          Allocate a pseudo-TTY. This option is needed to use Bash.\n",
    "                     Without the option, although commands can be input, the cell \n",
    "                     will not be output.\n",
    "  \n",
    "  -d, --detach       Run container in background and print container ID  \n",
    "  \n",
    "  --rm               Automatically remove the container when it exits\n",
    "```\n",
    "\n",
    "* ***docker ps***\n",
    "\n",
    "```bash\n",
    "Usage: docker ps [OPTIONS]\n",
    "List active/deactive containers\n",
    "\n",
    "Options:\n",
    "  -a, --all          Show all containers (default shows just running)\n",
    "```"
   ]
  },
  {
   "cell_type": "code",
   "execution_count": null,
   "metadata": {},
   "outputs": [],
   "source": [
    "# install Ubuntu 20.04\n",
    "# docker run -itd --rm --name ubuntu_20_04 ubuntu:20.04\n",
    "!docker run -itd --rm --name $DOCKER_NAME $DOCKER_REPO:$DOCKER_TAG\n",
    "    \n",
    "!echo\n",
    "# Checking the container process\n",
    "!docker ps -a"
   ]
  },
  {
   "cell_type": "markdown",
   "metadata": {},
   "source": [
    "## Local and container commands\n",
    "\n",
    "![docker_2.5](images/iot_edge/docker_2.5.png)\n",
    "\n",
    "* ***docker exec***\n",
    "\n",
    "```bash\n",
    "Usage: docker exec [OPTIONS] CONTAINER COMMAND [ARG...]\n",
    "Run a command in a running container\n",
    "```\n",
    "\n",
    "* Let's compare the result of running the command in local and container environments"
   ]
  },
  {
   "cell_type": "code",
   "execution_count": null,
   "metadata": {},
   "outputs": [],
   "source": [
    "# localhost\n",
    "!cat /etc/os-release\n",
    "\n",
    "!echo\n",
    "# On the docker\n",
    "!docker exec -it $DOCKER_NAME cat /etc/os-release"
   ]
  },
  {
   "cell_type": "markdown",
   "metadata": {},
   "source": [
    "## Removing containers\n",
    "\n",
    "![docker_2.6](images/iot_edge/docker_2.6.png)\n",
    "\n",
    "* ***docker rm***\n",
    "\n",
    "```bash\n",
    "Usage: docker rm [OPTIONS] CONTAINER [CONTAINER...]\n",
    "Removes one or more containers\n",
    "\n",
    "Options:\n",
    "  -f, --force          Force the removal of a running container (uses SIGKILL)\n",
    "```"
   ]
  },
  {
   "cell_type": "code",
   "execution_count": null,
   "metadata": {},
   "outputs": [],
   "source": [
    "# Check the container process\n",
    "!docker ps -a\n",
    "\n",
    "!echo\n",
    "# Kill the conatiner process\n",
    "!docker rm -f $DOCKER_NAME\n",
    "\n",
    "!echo\n",
    "# Check the container process\n",
    "!docker ps -a"
   ]
  },
  {
   "cell_type": "markdown",
   "metadata": {},
   "source": [
    "## Removing Docker Images\n",
    "\n",
    "![docker_2.7](images/iot_edge/docker_2.7.png)\n",
    "\n",
    "* ***docker rmi***\n",
    "\n",
    "```bash\n",
    "Usage: docker rmi [OPTIONS] IMAGE [IMAGE...]\n",
    "Removing one or more Docker Images\n",
    "```"
   ]
  },
  {
   "cell_type": "code",
   "execution_count": null,
   "metadata": {},
   "outputs": [],
   "source": [
    "# Check the Image\n",
    "!docker images\n",
    "\n",
    "!echo\n",
    "# Delete Image\n",
    "!docker rmi $DOCKER_REPO:$DOCKER_TAG\n",
    "    \n",
    "!echo\n",
    "# Check the Image\n",
    "!docker images"
   ]
  },
  {
   "cell_type": "markdown",
   "metadata": {},
   "source": [
    "# Creating a Dockerfile\n",
    "\n",
    "![docker_3](images/iot_edge/docker_3.png)"
   ]
  },
  {
   "cell_type": "markdown",
   "metadata": {},
   "source": [
    "## Methods to create a Dockerfile\n",
    "\n",
    "```bash\n",
    "Dockerfiles have the following structure.\n",
    "<INSTRUCTION arguments>\n",
    "```\n",
    "\n",
    "* **FROM**\n",
    "  * Initializes a new build stage and sets the Base Image for subsequent instructions\n",
    "  * A valid Dockerfile must start with a FROM instruction\n",
    "  \n",
    "\n",
    "* **RUN**\n",
    "  * Execute any commands in a new layer on top of the current image and commit the results\n",
    "  * The resulting committed image will be used for the next step in the Dockerfile\n",
    "  \n",
    "\n",
    "* **CMD**\n",
    "  * The main purpose of a CMD is to provide defaults for an executing container\n",
    "  * There can only be one CMD instruction in a Dockerfile\n",
    "  \n",
    "  \n",
    "* For additional information, refer to the Docs,\n",
    "  * [Docker Docs](https://docs.docker.com/engine/reference/builder/#from)"
   ]
  },
  {
   "cell_type": "markdown",
   "metadata": {},
   "source": [
    "## Creating a Dockerfile\n",
    "\n",
    "```bash\n",
    "%% -> Cell Magic\n",
    "Use the writefile command to save the following\n",
    "```"
   ]
  },
  {
   "cell_type": "code",
   "execution_count": null,
   "metadata": {},
   "outputs": [],
   "source": [
    "%%writefile Dockerfile\n",
    "FROM ubuntu:20.04 \n",
    "    \n",
    "RUN apt-get update\n",
    "\n",
    "CMD [\"/bin/bash\", \"-c\", \"while true; do echo \\\"Hello World!\\\"; sleep 1; done\"]"
   ]
  },
  {
   "cell_type": "markdown",
   "metadata": {},
   "source": [
    "## Check the created Dockerfile"
   ]
  },
  {
   "cell_type": "code",
   "execution_count": null,
   "metadata": {},
   "outputs": [],
   "source": [
    "!cat Dockerfile"
   ]
  },
  {
   "cell_type": "markdown",
   "metadata": {},
   "source": [
    "## Using a Dockerfile to download a Docker Image\n",
    "\n",
    "![docker_3.4](images/iot_edge/docker_3.4.png)\n",
    "\n",
    "* ***docker build***\n",
    "\n",
    "```bash\n",
    "Usage: docker build [OPTIONS] PATH | URL | -\n",
    "The docker build command builds Docker images from a Dockerfile and a “context”\n",
    "\n",
    "Options:\n",
    "  -t, --tag list          Name and optionally a tag in the 'name:tag' format\n",
    "```"
   ]
  },
  {
   "cell_type": "code",
   "execution_count": null,
   "metadata": {},
   "outputs": [],
   "source": [
    "!docker build -t $DOCKER_REPO:$DOCKER_TAG ."
   ]
  },
  {
   "cell_type": "markdown",
   "metadata": {},
   "source": [
    "## Check the downloaded Docker Image"
   ]
  },
  {
   "cell_type": "code",
   "execution_count": null,
   "metadata": {},
   "outputs": [],
   "source": [
    "# Check the container image\n",
    "!docker images"
   ]
  },
  {
   "cell_type": "markdown",
   "metadata": {},
   "source": [
    "## Run a container and check the commands\n",
    "\n",
    "![docker_3.6](images/iot_edge/docker_3.6.png)"
   ]
  },
  {
   "cell_type": "code",
   "execution_count": null,
   "metadata": {},
   "outputs": [],
   "source": [
    "# docker run background\n",
    "!docker run -itd --rm --name $DOCKER_NAME $DOCKER_REPO:$DOCKER_TAG"
   ]
  },
  {
   "cell_type": "markdown",
   "metadata": {},
   "source": [
    "## Check the container logs\n",
    "\n",
    "```bash\n",
    "CMD [\"/bin/bash\", \"-c\", \"while true; do echo \\\"Hello World!\\\"; sleep 1; done\"]\n",
    "```\n",
    "\n",
    "* The above code prints \"Hello World!\" every 10 seconds"
   ]
  },
  {
   "cell_type": "code",
   "execution_count": null,
   "metadata": {},
   "outputs": [],
   "source": [
    "!docker container logs -t -n 10 $DOCKER_NAME"
   ]
  },
  {
   "cell_type": "markdown",
   "metadata": {},
   "source": [
    "## Check and remove a container\n",
    "\n",
    "![docker_2.6](images/iot_edge/docker_2.6.png)"
   ]
  },
  {
   "cell_type": "code",
   "execution_count": null,
   "metadata": {},
   "outputs": [],
   "source": [
    "# Check the container process\n",
    "!docker ps -a\n",
    "\n",
    "!echo\n",
    "# Kill the conatiner process\n",
    "!docker rm -f $DOCKER_NAME \n",
    "\n",
    "!echo\n",
    "# Check the container process\n",
    "!docker ps -a"
   ]
  },
  {
   "cell_type": "markdown",
   "metadata": {},
   "source": [
    "# Creating multiple containers (Nginx, Apache)\n",
    "\n",
    "![docker_4](images/iot_edge/docker_4.png)\n",
    "\n",
    "* ***Nginx*** Image **Dockerhub Link**\n",
    "  * [Dockerhub for Nginx](https://hub.docker.com/_/nginx)\n",
    "\n",
    "\n",
    "* ***Apache*** Image **Dockerhub Link**\n",
    "  * [Dockerhub for Apache](https://hub.docker.com/_/httpd)"
   ]
  },
  {
   "cell_type": "markdown",
   "metadata": {},
   "source": [
    "## Download Docker Image\n",
    "\n",
    "![docker_4.1](images/iot_edge/docker_4.1.png)\n",
    "\n",
    "* If **tag** is not specified, the **latest** version from Dockerhub is automatically downloaded"
   ]
  },
  {
   "cell_type": "code",
   "execution_count": null,
   "metadata": {},
   "outputs": [],
   "source": [
    "# Download Nginx Image\n",
    "!docker pull nginx\n",
    "\n",
    "# Download Apache Image\n",
    "!docker pull httpd"
   ]
  },
  {
   "cell_type": "markdown",
   "metadata": {},
   "source": [
    "## Check the Docker Image\n",
    "\n",
    "* An Image with the ***latest*** tag is downloaded"
   ]
  },
  {
   "cell_type": "code",
   "execution_count": null,
   "metadata": {},
   "outputs": [],
   "source": [
    "!docker images"
   ]
  },
  {
   "cell_type": "markdown",
   "metadata": {},
   "source": [
    "## Check the Dockerfile\n",
    "\n",
    "* Dockerfile for the **Nginx** Image\n",
    "  \n",
    "  * [Nginx_Dockerfile](https://github.com/nginxinc/docker-nginx/blob/41156d8a36bd03b2fb36353ba31f16ada08d9e48/mainline/debian/Dockerfile)\n",
    "  \n",
    "  * Exposed ports and basic commands can be checked\n",
    "  \n",
    "```bash\n",
    "EXPOSE 80\n",
    "CMD [\"nginx\", \"-g\", \"daemon off;\"]\n",
    "```\n",
    "\n",
    "* Dockerfile for the **Apache** Image\n",
    "\n",
    "  * [Apache_Dockerfile](https://github.com/docker-library/httpd/blob/077141ee37fca63972292c562ec0f632d0f831b1/2.4/Dockerfile)\n",
    "  \n",
    "  * Exposed ports and basic commands can be checked\n",
    "  \n",
    "```bash\n",
    "EXPOSE 80\n",
    "CMD [\"httpd-foreground\"]\n",
    "```"
   ]
  },
  {
   "cell_type": "markdown",
   "metadata": {},
   "source": [
    "## Check Docker History"
   ]
  },
  {
   "cell_type": "code",
   "execution_count": null,
   "metadata": {},
   "outputs": [],
   "source": [
    "# check the Nginx layer\n",
    "!docker history nginx:latest\n",
    "\n",
    "!echo\n",
    "\n",
    "# check the Apache layer\n",
    "!docker history httpd:latest"
   ]
  },
  {
   "cell_type": "markdown",
   "metadata": {},
   "source": [
    "## Run a new container using Docker Image\n",
    "\n",
    "![docker_4.5](images/iot_edge/docker_4.5.png)"
   ]
  },
  {
   "cell_type": "markdown",
   "metadata": {},
   "source": [
    "### Run the Nginx container \n",
    "\n",
    "* the ***-p option*** connects the exposed port to localhost ***(8080)***"
   ]
  },
  {
   "cell_type": "code",
   "execution_count": null,
   "metadata": {},
   "outputs": [],
   "source": [
    "# Run Nginx Contianer\n",
    "!docker run -itd --rm --name nginx_test -p 8080:80 nginx:latest"
   ]
  },
  {
   "cell_type": "markdown",
   "metadata": {},
   "source": [
    "### Run the Apache container\n",
    "\n",
    "* the ***-p option*** connects the exposed port to localhost ***(8081)***"
   ]
  },
  {
   "cell_type": "code",
   "execution_count": null,
   "metadata": {},
   "outputs": [],
   "source": [
    "# Run Apache Container\n",
    "!docker run -itd --rm --name apache_test -p 8081:80 httpd:latest"
   ]
  },
  {
   "cell_type": "markdown",
   "metadata": {},
   "source": [
    "### Check the running container"
   ]
  },
  {
   "cell_type": "code",
   "execution_count": null,
   "metadata": {},
   "outputs": [],
   "source": [
    "# Checking the container process\n",
    "!docker ps -a"
   ]
  },
  {
   "cell_type": "markdown",
   "metadata": {},
   "source": [
    "### Check using a web browser\n",
    "\n",
    "* [Nginx Server](http://localhost:8080)\n",
    "\n",
    "* [Apache Server](http://localhost:8081)"
   ]
  },
  {
   "cell_type": "markdown",
   "metadata": {},
   "source": [
    "## Delete the containers"
   ]
  },
  {
   "cell_type": "code",
   "execution_count": null,
   "metadata": {},
   "outputs": [],
   "source": [
    "# Delete Nginx container\n",
    "!docker rm -f nginx_test\n",
    "\n",
    "# Delete Apache container\n",
    "!docker rm -f apache_test\n",
    "\n",
    "!echo\n",
    "# Check the conatainer\n",
    "!docker ps -a"
   ]
  },
  {
   "cell_type": "markdown",
   "metadata": {},
   "source": [
    "# Using Docker-Compose\n",
    "\n",
    "![docker_5](images/iot_edge/docker_5.png)\n",
    "\n",
    "* Compose uses YAML files to configure the application's services\n",
    "    * [Link](https://docs.docker.com/compose/)"
   ]
  },
  {
   "cell_type": "markdown",
   "metadata": {},
   "source": [
    "## Creating a Compose file\n",
    "\n",
    "* Compose files are *YAML* files that define services, networks, and volumes.\n",
    "  * [Link](https://docs.docker.com/compose/compose-file/)\n",
    "  \n",
    "  \n",
    "* ***services***\n",
    "  * Contains the configuration applied to each container for that service, such as passing parameters when running the docker run command\n",
    "  * Each service used in this item is implemented as a container, and these containers are managed by Docker Compose as a single project.\n",
    "  * The name of the service is defined as a sub-item of services and the container options are defined in the sub-item of the service name.\n",
    "  \n",
    "```bash\n",
    "ex)\n",
    "services:\n",
    "    container_name:\n",
    "        ....\n",
    "```\n",
    "\n",
    "\n",
    "* ***image***\n",
    "  * Define the repo or tag of the Image that will be used\n",
    "  \n",
    "\n",
    "* ***container_name***\n",
    "  * Identical to docker run's --name option\n",
    "  * Define the name of the new container\n",
    "\n",
    "\n",
    "* ***tty***\n",
    "  * Identical to docker run's -t option\n",
    "  * Assigns a pseudo-TTY. This option is needed to use Bash\n",
    "\n",
    "\n",
    "* ***ports***\n",
    "  * Identical to docker run's -p option\n",
    "  * Define the port number to connect the container and localhost"
   ]
  },
  {
   "cell_type": "markdown",
   "metadata": {},
   "source": [
    "## Create a docker-compose.yml file"
   ]
  },
  {
   "cell_type": "markdown",
   "metadata": {},
   "source": [
    "### Save the Compose file\n",
    "\n",
    "* ***Ubuntu 20.04***\n",
    "  * Container which prints Hello World every second\n",
    "  * Image name **ubuntu:20.04**\n",
    "  * Container name ubuntu_test\n",
    "\n",
    "\n",
    "* ***Nginx***\n",
    "  * Webserver container\n",
    "  * Image name **nginx:latest**\n",
    "  * Container name nginx_test\n",
    "  * Pairing port number **8080 (localhost) <-> 80 (container)**\n",
    "  \n",
    "\n",
    "* ***Apache***\n",
    "  * Webserver container\n",
    "  * Image name **httpd:latest**\n",
    "  * Container name apache_test\n",
    "  * Pairing port number **8081 (localhost) <-> 80 (container)**"
   ]
  },
  {
   "cell_type": "code",
   "execution_count": null,
   "metadata": {},
   "outputs": [],
   "source": [
    "%%writefile docker-compose.yml\n",
    "version: \"3\"\n",
    "    \n",
    "services:\n",
    "    # config for ubuntu\n",
    "    ubuntu:\n",
    "        image: ubuntu:20.04\n",
    "        container_name: ubuntu_test                \n",
    "        tty: true\n",
    "            \n",
    "    # config for nginx\n",
    "    nginx:\n",
    "        image: nginx:latest\n",
    "        container_name: nginx_test\n",
    "        tty: true\n",
    "        ports:\n",
    "            - \"8080:80\"            \n",
    "\n",
    "    # config for apache\n",
    "    apache:\n",
    "        image: httpd:latest\n",
    "        container_name: apache_test                \n",
    "        tty: true\n",
    "        ports:\n",
    "            - \"8081:80\"            "
   ]
  },
  {
   "cell_type": "markdown",
   "metadata": {},
   "source": [
    "### Run Docker Compose\n",
    "\n",
    "* Run in the background!"
   ]
  },
  {
   "cell_type": "code",
   "execution_count": null,
   "metadata": {},
   "outputs": [],
   "source": [
    "# Run the docker-compose\n",
    "!docker-compose up -d"
   ]
  },
  {
   "cell_type": "markdown",
   "metadata": {},
   "source": [
    "### Check Docker Compose "
   ]
  },
  {
   "cell_type": "code",
   "execution_count": null,
   "metadata": {},
   "outputs": [],
   "source": [
    "# Check docker process using docker-compose command\n",
    "!docker-compose ps\n",
    "\n",
    "!echo\n",
    "# Check container process\n",
    "!docker ps -a"
   ]
  },
  {
   "cell_type": "markdown",
   "metadata": {},
   "source": [
    "* [Nginx Server](http://localhost:8080)\n",
    "\n",
    "* [Apache Server](http://localhost:8081)"
   ]
  },
  {
   "cell_type": "markdown",
   "metadata": {},
   "source": [
    "### Check Docker Compose logs"
   ]
  },
  {
   "cell_type": "code",
   "execution_count": null,
   "metadata": {},
   "outputs": [],
   "source": [
    "!docker-compose logs -t --tail=\"all\""
   ]
  },
  {
   "cell_type": "markdown",
   "metadata": {},
   "source": [
    "### Stop Docker Compose "
   ]
  },
  {
   "cell_type": "code",
   "execution_count": null,
   "metadata": {},
   "outputs": [],
   "source": [
    "# Stop the docker-compose\n",
    "!docker-compose down\n",
    "\n",
    "!echo\n",
    "# Check docker process\n",
    "!docker-compose ps"
   ]
  }
 ],
 "metadata": {
  "kernelspec": {
   "display_name": "Python 3",
   "language": "python",
   "name": "python3"
  },
  "language_info": {
   "codemirror_mode": {
    "name": "ipython",
    "version": 3
   },
   "file_extension": ".py",
   "mimetype": "text/x-python",
   "name": "python",
   "nbconvert_exporter": "python",
   "pygments_lexer": "ipython3",
   "version": "3.6.9"
  },
  "toc": {
   "base_numbering": "0",
   "nav_menu": {},
   "number_sections": true,
   "sideBar": true,
   "skip_h1_title": false,
   "title_cell": "Table of Contents",
   "title_sidebar": "Contents",
   "toc_cell": false,
   "toc_position": {
    "height": "calc(100% - 180px)",
    "left": "10px",
    "top": "150px",
    "width": "384px"
   },
   "toc_section_display": true,
   "toc_window_display": true
  }
 },
 "nbformat": 4,
 "nbformat_minor": 4
}
