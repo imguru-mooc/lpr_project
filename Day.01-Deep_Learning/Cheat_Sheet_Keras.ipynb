{
 "cells": [
  {
   "cell_type": "markdown",
   "metadata": {
    "id": "uVu1i9i6ML7O"
   },
   "source": [
    "![Intel Logo](./images/logo.png)\n",
    "\n",
    "# Keras Cheat Sheet\n",
    "\n",
    "### Contents :\n",
    "\n",
    "   1. Loading the dataset <br>\n",
    "\n",
    "   2. Exploring the data <br>\n",
    "\n",
    "   3. Preprocessing data <br>\n",
    "\n",
    "   4. Visualizing data <br>\n",
    "\n",
    "   5. Building the model <br>\n",
    "\n",
    "   6. Compiling the model <br>\n",
    "\n",
    "   7. Training the model <br>\n",
    "\n",
    "   8. Evaluating model accuracy <br>\n",
    "\n",
    "   9. Additional information <br>\n",
    "\n",
    "  "
   ]
  },
  {
   "cell_type": "markdown",
   "metadata": {
    "id": "A_IDSOjOJuxk"
   },
   "source": [
    "# 1. Loading the dataset\n"
   ]
  },
  {
   "cell_type": "code",
   "execution_count": null,
   "metadata": {
    "id": "3IFGnQlaJ6VT"
   },
   "outputs": [],
   "source": [
    "# The dataset can be loaded using ___.load_data().\n",
    "(train_x, train_y), (test_x, test_y) = dataset.load_data()\n",
    "\n",
    "# Taking Keras' MNIST dataset as an example,\n",
    "(train_images, train_labels), (test_images, test_labels) = mnist.load_data()"
   ]
  },
  {
   "cell_type": "markdown",
   "metadata": {
    "id": "lLeqUPi9K7dZ"
   },
   "source": [
    "# 2. Exploring the data"
   ]
  },
  {
   "cell_type": "markdown",
   "metadata": {
    "id": "dvkP9B1yM9iE"
   },
   "source": [
    "The train_x and train_y arrays are training sets, which are the data the model uses for training.\n",
    "The model is tested against the test set, test_y and test_y arrays."
   ]
  },
  {
   "cell_type": "code",
   "execution_count": null,
   "metadata": {
    "id": "MqF5OWEuLAau"
   },
   "outputs": [],
   "source": [
    "# You can check the number of columns and rows (shape) of the imported data using ___.shape.\n",
    "print(\"Features Shape:\", train_x.shape, test_x.shape)\n",
    "print(\"Labels Shape:\", train_y.shape, test_y.shape)\n",
    "\n",
    "# Taking Keras' MNIST dataset as an example,\n",
    "print(\"Image shape:\", train_images.shape, test_images.shape)\n",
    "print(\"Label shape:\", train_labels.shape, test_labels.shape)"
   ]
  },
  {
   "cell_type": "markdown",
   "metadata": {
    "id": "7zusAUI6MJ37"
   },
   "source": [
    "# 3. Preprocessing data"
   ]
  },
  {
   "cell_type": "markdown",
   "metadata": {
    "id": "SetX39_tMNaP"
   },
   "source": [
    "For each image in the data set, the pixel intensity values range from 0 to 255.\n",
    "In order for the model to perform well, you need to normalize the data, so change the value proportionally between 0 and 1."
   ]
  },
  {
   "cell_type": "code",
   "execution_count": null,
   "metadata": {
    "id": "UBoA2-V0ML-g"
   },
   "outputs": [],
   "source": [
    "# To train the model, we need to preprocess the data (Normalization in the example below). Since the pixel intensity value must be between 0 and 1, divide all values by 255 and set as ___.astype('float32')\n",
    "train_images = (train_images / 255).astype('float32')\n",
    "test_images = (test_images / 255).astype('float32')"
   ]
  },
  {
   "cell_type": "markdown",
   "metadata": {
    "id": "3FkeEQkyOYNs"
   },
   "source": [
    "# 4. Visualizing data"
   ]
  },
  {
   "cell_type": "code",
   "execution_count": null,
   "metadata": {
    "id": "znR2vZALOcPu"
   },
   "outputs": [],
   "source": [
    "# Refer to the code below for data visualization\n",
    "\n",
    "# plt.figure (figsize = (integer_x, integer_y)) sets the size of the figure which displays the image\n",
    "plt.figure(figsize=(20, 20))\n",
    "# Printing the entire data set is inefficient. Select a few samples (~10) and plot\n",
    "for idx in range(1, 11):\n",
    "    # ax = plt.subplot (number_of_rows, number_of_columns, index) creates subplots for the figure\n",
    "    ax = plt.subplot(5,5,idx)\n",
    "    # When printing image data, it is important to know the label of each image. You can set the title of each subplot using ax.title.set_text().\n",
    "    ax.title.set_text(f\"Label: {train_labels[idx]}\")\n",
    "    # plt.imshow() prints the image to the designated subplot\n",
    "    plt.imshow(train_images[idx])\n",
    "    # When viewing image data, the axes are unnecessary. However the default option displays the axes. Therefore, disable it.\n",
    "    plt.axis('off')"
   ]
  },
  {
   "cell_type": "markdown",
   "metadata": {
    "id": "DR7eP5oKQimY"
   },
   "source": [
    "# 5. Building the model"
   ]
  },
  {
   "cell_type": "code",
   "execution_count": null,
   "metadata": {
    "id": "VnHCyZ0bQkaw"
   },
   "outputs": [],
   "source": [
    "# Most layers have parameters learned during training. For example:\n",
    "  # The following Dense layer contains 128 neurons with the activation function set to ReLU.\n",
    "tf.keras.layers.Dense(128, activation='relu'),\n",
    "  # The following Dense layer returns an array of logits of length 10. Each node contains a score indicating that the current image belongs to one of ten classes.\n",
    "tf.keras.layers.Dense(10)\n",
    "  # Convert the image format from a two-dimensional array to a one-dimensional array that the model can interpret.\n",
    "tf.keras.layers.Flatten()\n",
    "\n",
    "# Models can be built by refering to the following format.\n",
    "model = tf.keras.Sequential([\n",
    "    tf.keras.layers.Flatten(input_shape=(28, 28)),\n",
    "    tf.keras.layers.Dense(128, activation='relu'),\n",
    "    tf.keras.layers.Dense(10)\n",
    "])\n"
   ]
  },
  {
   "cell_type": "markdown",
   "metadata": {
    "id": "q80_cjHiS2vR"
   },
   "source": [
    "# 6. Compiling the model\n"
   ]
  },
  {
   "cell_type": "code",
   "execution_count": null,
   "metadata": {
    "id": "Rd3STqVuS52R"
   },
   "outputs": [],
   "source": [
    "# Before training the model, it must be compiled using model.compile(optimizer='', loss='', metrics=[''])\n",
    "# Optimizer — How the model is updated based on the data displayed and the loss function\n",
    "# Loss Function — Measures how accurate the model is during training. Try to \"tune\" the model in the right direction by minimizing this feature\n",
    "# Metrics — Used to monitor training and testing steps. For example, you can use accuracy that is part of a correctly classified image.\n",
    "\n",
    "# The model can be compiled using the following code\n",
    "model.compile(\n",
    "    optimizer= 'adam',\n",
    "    # Categorical crossentropy is a loss function mainly used in multiple classification problems.\n",
    "    loss='categorical_crossentropy',\n",
    "    metrics=['accuracy'],\n",
    ")"
   ]
  },
  {
   "cell_type": "markdown",
   "metadata": {
    "id": "FKMVWp4mTe_4"
   },
   "source": [
    "# 7. Training the model\n",
    "\n",
    "### Training the model can be summarized in 4 steps.\n",
    "1) Feed the training data to the model.\n",
    "<br>\n",
    "2) The model learns how to connect features (images) and labels.\n",
    "<br>\n",
    "3) Instruct the model to make predictions about the test set.\n",
    "<br>\n",
    "4) Check if the prediction matches the label of the test_y array."
   ]
  },
  {
   "cell_type": "code",
   "execution_count": null,
   "metadata": {
    "id": "4TVvR1i3TggG"
   },
   "outputs": [],
   "source": [
    "# The model can be trained using the following function: model.fit(train_images, train_labels, epochs=integer_number, batch_size=integer_number).\n",
    "\n",
    "# Refer to the code below\n",
    "model.fit(\n",
    "  train_images,\n",
    "  # To change the label to categorical data, use to_categorical(train_y).\n",
    "  to_categorical(train_labels),\n",
    "  epochs=5,\n",
    "  batch_size=32,\n",
    ")"
   ]
  },
  {
   "cell_type": "markdown",
   "metadata": {
    "id": "IBhdFhJmVvq2"
   },
   "source": [
    "# 8. Evaluating model accuracy"
   ]
  },
  {
   "cell_type": "code",
   "execution_count": null,
   "metadata": {
    "id": "7RR3G31uVxB5"
   },
   "outputs": [],
   "source": [
    "# Use model.evaluate(test_x, test_y) to check the accuracy of the model. This function returns two values: test_loss and test_accuracy.\n",
    "test_loss, test_accuracy = model.evaluate(test_x,  test_y)\n",
    "print('\\nTest accuracy:', test_accuracy)\n",
    "print('\\nTest loss:', test_loss)\n",
    "\n",
    "# Refer to the code below\n",
    "model.evaluate(\n",
    "  test_images,\n",
    "  # To change the label to categorical data, use to_categorical(train_y).\n",
    "  to_categorical(test_labels)\n",
    ")\n",
    "\n",
    "# Predict the model using the test dataset.\n",
    "  # Predict using the first 10 test data.\n",
    "predictions = model.predict(test_images[:10])\n",
    "  # Make predictions using the entire test dataset.\n",
    "predictions = model.predict(test_images)\n",
    "\n",
    "# Prediction is an array of 10 numbers. It represents the \"confidence\" of the model that the image corresponds to each of 10 different numbers. The label with the highest value can be checked using np.argmax().\n",
    "print(np.argmax(predictions))\n",
    "\n",
    "# Print the actual values so that the model's predictions can be compared to the actual values.\n",
    "print(test_labels[:5])"
   ]
  },
  {
   "cell_type": "markdown",
   "metadata": {
    "id": "Opjjap0ZpjeF"
   },
   "source": [
    "# 9. Additional information\n",
    "\n",
    "### For additional information, refer to the [Official Docs](https://www.tensorflow.org/api_docs/python/tf/keras)\n"
   ]
  },
  {
   "cell_type": "code",
   "execution_count": null,
   "metadata": {},
   "outputs": [],
   "source": []
  }
 ],
 "metadata": {
  "colab": {
   "collapsed_sections": [],
   "name": "Keras_Cheat_Sheet .ipynb",
   "provenance": [],
   "toc_visible": true
  },
  "kernelspec": {
   "display_name": "Python 3",
   "language": "python",
   "name": "python3"
  },
  "language_info": {
   "codemirror_mode": {
    "name": "ipython",
    "version": 3
   },
   "file_extension": ".py",
   "mimetype": "text/x-python",
   "name": "python",
   "nbconvert_exporter": "python",
   "pygments_lexer": "ipython3",
   "version": "3.8.5"
  }
 },
 "nbformat": 4,
 "nbformat_minor": 1
}
